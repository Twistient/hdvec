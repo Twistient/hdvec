{
 "cells": [
  {
   "cell_type": "markdown",
   "id": "9fe7f293",
   "metadata": {},
   "source": [
    "# Scene Encoding Cross-Talk\n",
    "\n",
    "This notebook uses HDVEC positional Fractional Power Encoding (FPE) and the `FieldEncoder` scene utility to explore round-trip accuracy and clean-up margins as the density of non-background cells increases."
   ]
  },
  {
   "cell_type": "code",
   "execution_count": 1,
   "id": "6ce6abab-ba08-4a6a-b680-caa0fcc036d5",
   "metadata": {},
   "outputs": [],
   "source": [
    "%matplotlib inline"
   ]
  },
  {
   "cell_type": "code",
   "execution_count": 2,
   "id": "67ee0ece",
   "metadata": {},
   "outputs": [],
   "source": [
    "import numpy as np\n",
    "import matplotlib.pyplot as plt\n",
    "\n",
    "from hdvec.core import bind, inv\n",
    "from hdvec.core.codebook import Codebook\n",
    "from hdvec.encoding.positional import Positional2DTorus\n",
    "from hdvec.encoding.scene import FieldEncoder"
   ]
  },
  {
   "cell_type": "code",
   "execution_count": 3,
   "id": "ae82c6a5",
   "metadata": {},
   "outputs": [],
   "source": [
    "D = 8192\n",
    "rng = np.random.default_rng(7)\n",
    "\n",
    "positional = Positional2DTorus(D=D, beta=0.5, rng=np.random.default_rng(1))\n",
    "K = 10\n",
    "codebook = np.stack([\n",
    "    np.exp(1j * rng.uniform(-np.pi, np.pi, size=D)).astype(np.complex64)\n",
    "    for _ in range(K)\n",
    "], axis=0)\n",
    "\n",
    "encoder = FieldEncoder(positional=positional, value_codebook=codebook)\n",
    "cb = Codebook(codebook)\n",
    "\n",
    "def decode_grid(scene: np.ndarray, H: int, W: int) -> np.ndarray:\n",
    "    grid = np.zeros((H, W), dtype=np.int32)\n",
    "    for i in range(H):\n",
    "        for j in range(W):\n",
    "            idx_score = encoder.read_cell(scene, i, j, (H, W))\n",
    "            grid[i, j] = int(idx_score[0])\n",
    "    return grid\n"
   ]
  },
  {
   "cell_type": "code",
   "execution_count": null,
   "id": "13b8684e",
   "metadata": {},
   "outputs": [],
   "source": [
    "H = W = 10\n",
    "ratios = np.linspace(0.0, 1.0, 21)\n",
    "accuracies = []\n",
    "margin_means = []\n",
    "\n",
    "pos_grid = positional.sample_grid(H, W)\n",
    "\n",
    "for ratio in ratios:\n",
    "    grid = np.zeros((H, W), dtype=np.int32)\n",
    "    num_active = int(ratio * H * W)\n",
    "    if num_active > 0:\n",
    "        idx = rng.choice(H * W, size=num_active, replace=False)\n",
    "        grid.flat[idx] = rng.integers(1, K, size=num_active)\n",
    "    scene = encoder.encode_grid(grid)\n",
    "    recon = decode_grid(scene, H, W)\n",
    "    accuracies.append((recon == grid).mean())\n",
    "    total_margin = 0.0\n",
    "    count = 0\n",
    "    for i in range(H):\n",
    "        for j in range(W):\n",
    "            pos = pos_grid[i, j]\n",
    "            slot = bind(scene, inv(pos))\n",
    "            idxs, scores = cb.topk(slot, k=min(2, K))\n",
    "            if scores.size == 0:\n",
    "                continue\n",
    "            if scores.size == 1:\n",
    "                margin = scores[0]\n",
    "            else:\n",
    "                margin = scores[0] - scores[1]\n",
    "            total_margin += margin\n",
    "            count += 1\n",
    "    margin_means.append(total_margin / max(count, 1))\n"
   ]
  },
  {
   "cell_type": "code",
   "execution_count": null,
   "id": "f423bd6f",
   "metadata": {
    "scrolled": true
   },
   "outputs": [],
   "source": [
    "fig, ax = plt.subplots(1, 2, figsize=(12, 4))\n",
    "ax[0].plot(ratios, accuracies, marker='o')\n",
    "ax[0].set_title('Round-trip accuracy vs fill ratio')\n",
    "ax[0].set_xlabel('Fill ratio')\n",
    "ax[0].set_ylabel('Accuracy')\n",
    "ax[0].set_ylim(0, 1.05)\n",
    "ax[0].grid(True)\n",
    "\n",
    "ax[1].plot(ratios, margin_means, marker='o', color='orange')\n",
    "ax[1].set_title('Average margin vs fill ratio')\n",
    "ax[1].set_xlabel('Fill ratio')\n",
    "ax[1].set_ylabel('Mean top-1 margin (cosine)')\n",
    "ax[1].grid(True)\n",
    "\n",
    "plt.tight_layout()\n",
    "plt.show()\n"
   ]
  },
  {
   "cell_type": "code",
   "execution_count": null,
   "id": "ba3d2c30-9b70-4b48-ae0f-10d1c58743bc",
   "metadata": {},
   "outputs": [],
   "source": []
  }
 ],
 "metadata": {
  "kernelspec": {
   "display_name": "Python (hdvec)",
   "language": "python",
   "name": "hdvec-env"
  },
  "language_info": {
   "codemirror_mode": {
    "name": "ipython",
    "version": 3
   },
   "file_extension": ".py",
   "mimetype": "text/x-python",
   "name": "python",
   "nbconvert_exporter": "python",
   "pygments_lexer": "ipython3",
   "version": "3.11.10"
  }
 },
 "nbformat": 4,
 "nbformat_minor": 5
}
